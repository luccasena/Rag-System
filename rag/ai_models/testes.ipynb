{
 "cells": [
  {
   "cell_type": "code",
   "execution_count": 3,
   "id": "8125c628",
   "metadata": {},
   "outputs": [],
   "source": [
    "import os\n",
    "from langchain_text_splitters import CharacterTextSplitter\n",
    "from langchain_chroma import Chroma\n",
    "from langchain.embeddings import OllamaEmbeddings\n",
    "from langchain_community.llms import Ollama\n"
   ]
  },
  {
   "cell_type": "code",
   "execution_count": 4,
   "id": "54a930b5",
   "metadata": {},
   "outputs": [],
   "source": [
    "def open_file(file_path):\n",
    "    try:\n",
    "        with open(file_path, \"r\", encoding=\"utf-8\") as file:\n",
    "            contents = file.read()\n",
    "        return contents\n",
    "    except FileNotFoundError:\n",
    "        print(\"File not found:\")\n",
    "    except Exception as e:\n",
    "        print(\"Error:\")\n"
   ]
  },
  {
   "cell_type": "code",
   "execution_count": 16,
   "id": "95089235",
   "metadata": {},
   "outputs": [],
   "source": [
    "client = Ollama(model=\"mistral\")\n",
    "\n",
    "chunk_size = 1000\n",
    "chunk_overlap = 0.25\n",
    "\n",
    "file_path = \"documents/Hardware.txt\"\n",
    "persist_directory = \"chroma\"\n",
    "\n",
    "embedding = OllamaEmbeddings(model=\"bge-m3\")\n",
    "\n",
    "criar_db = False"
   ]
  },
  {
   "cell_type": "code",
   "execution_count": null,
   "id": "54ead396",
   "metadata": {},
   "outputs": [
    {
     "name": "stdout",
     "output_type": "stream",
     "text": [
      "Carregando Banco Vetorial\n",
      "Banco de vetores carregado com sucesso.\n"
     ]
    }
   ],
   "source": [
    "if criar_db:\n",
    "    print(\"Criando Banco Vetorial\")\n",
    "\n",
    "    # Abrindo o arquio\n",
    "    texto = open_file(file_path)\n",
    "    filename = os.path.basename(file_path)\n",
    "    metadatas = [{\"nome do arquivo\": filename}]\n",
    "\n",
    "    text_splitter = CharacterTextSplitter(separator=\"\\n\", chunk_size=chunk_size,\n",
    "                                        chunk_overlap=int(chunk_size * chunk_overlap),\n",
    "                                        length_function=len,\n",
    "                                        is_separator_regex=False,\n",
    "                                        )\n",
    "\n",
    "\n",
    "    all_splits = text_splitter.create_documents([texto], metadatas=metadatas)\n",
    "\n",
    "    vectorstore = Chroma.from_documents(documents=all_splits, embedding=embedding, persist_directory=persist_directory)\n",
    "    \n",
    "\n",
    "else:\n",
    "    print(\"Carregando Banco Vetorial\")\n",
    "    try:\n",
    "        vectorstore = Chroma(embedding_function=embedding, persist_directory=persist_directory)\n",
    "        print(\"Banco de vetores carregado com sucesso.\")\n",
    "    except Exception as e:\n",
    "        print(f\"Erro ao carregar banco de vetores: {e}\")\n",
    "\n",
    "    \n"
   ]
  },
  {
   "cell_type": "code",
   "execution_count": 17,
   "id": "f301cd8a",
   "metadata": {},
   "outputs": [],
   "source": [
    "question = \"Qual a diferença entre Unidade de Controle e Unidade Lógica Aritmética?\"\n",
    "\n",
    "docs = vectorstore.similarity_search_with_score(question, k=4)"
   ]
  },
  {
   "cell_type": "code",
   "execution_count": 18,
   "id": "33ae2ad5",
   "metadata": {},
   "outputs": [
    {
     "name": "stdout",
     "output_type": "stream",
     "text": [
      "Resposta:  A diferença entre Unidade de Controle (UC) e Unidade Lógica Aritmética (ALU) é a seguinte:\n",
      "\n",
      "    - A ALU é uma parte do processador que realiza operações aritméticas e lógicas, enquanto a UC é um componente essencial da unidade central de processamento (CPU) que direciona as operações do processador.\n",
      "\n",
      "    - A ALU atua na parte executora das operações, executando tarefas como adição, subtração, multiplicação e divisão, além de operações lógicas como AND, OR e NOT. Já a UC atua como o maestro da CPU, coordenando as atividades de outros componentes, como a ALU, registradores e memória, e buscando instruções da memória, decodificando-as e gerando os sinais de controle necessários para executar as instruções.\n",
      "\n",
      "    - Portanto, enquanto a ALU é responsável pelas operações aritméticas e lógicas nos dados dos programas, a UC é responsável pelo gerenciamento das instruções do programa na CPU.\n"
     ]
    }
   ],
   "source": [
    "def enviar_pergunta(pergunta, contexto):\n",
    "    try:\n",
    "        prompt = f\"\"\"\n",
    "        Pergunta: {pergunta}\n",
    "\n",
    "        Utilize as informações a seguir para responder a pergunta:\n",
    "        {contexto}\n",
    "\n",
    "\n",
    "        Resposta:\n",
    "        \"\"\"\n",
    "        resposta = client.invoke(prompt)\n",
    "        return resposta\n",
    "\n",
    "    except Exception as e:\n",
    "        return f\"Ocorreu um erro: {e}\"\n",
    "    \n",
    "    \n",
    "resposta = enviar_pergunta(question, str(docs))\n",
    "\n",
    "print(\"Resposta:\", resposta)"
   ]
  }
 ],
 "metadata": {
  "kernelspec": {
   "display_name": "venv",
   "language": "python",
   "name": "python3"
  },
  "language_info": {
   "codemirror_mode": {
    "name": "ipython",
    "version": 3
   },
   "file_extension": ".py",
   "mimetype": "text/x-python",
   "name": "python",
   "nbconvert_exporter": "python",
   "pygments_lexer": "ipython3",
   "version": "3.12.7"
  }
 },
 "nbformat": 4,
 "nbformat_minor": 5
}
