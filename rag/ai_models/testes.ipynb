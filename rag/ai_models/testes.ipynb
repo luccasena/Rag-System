{
 "cells": [
  {
   "cell_type": "code",
   "execution_count": 1,
   "id": "8125c628",
   "metadata": {},
   "outputs": [],
   "source": [
    "import os\n",
    "from langchain_text_splitters import CharacterTextSplitter\n",
    "from langchain_chroma import Chroma\n",
    "from langchain.embeddings import OllamaEmbeddings\n",
    "from langchain_community.llms import Ollama"
   ]
  },
  {
   "cell_type": "code",
   "execution_count": 2,
   "id": "54a930b5",
   "metadata": {},
   "outputs": [],
   "source": [
    "def open_file(file_path):\n",
    "    try:\n",
    "        with open(file_path, \"r\", encoding=\"utf-8\") as file:\n",
    "            contents = file.read()\n",
    "        return contents\n",
    "    except FileNotFoundError:\n",
    "        print(\"File not found:\")\n",
    "    except Exception as e:\n",
    "        print(\"Error:\")\n"
   ]
  },
  {
   "cell_type": "code",
   "execution_count": 7,
   "id": "95089235",
   "metadata": {},
   "outputs": [],
   "source": [
    "client = Ollama(model=\"llama3:8b\")\n",
    "\n",
    "chunk_size = 1000\n",
    "chunk_overlap = 0.25\n",
    "\n",
    "file_path = \"documents/Hardware.txt\"\n",
    "persist_directory = \"chroma\"\n",
    "\n",
    "embedding = OllamaEmbeddings(model=\"bge-m3\")\n",
    "\n",
    "criar_db = False"
   ]
  },
  {
   "cell_type": "code",
   "execution_count": null,
   "id": "54ead396",
   "metadata": {},
   "outputs": [
    {
     "name": "stdout",
     "output_type": "stream",
     "text": [
      "Carregando Banco Vetorial\n",
      "Banco de vetores carregado com sucesso.\n"
     ]
    }
   ],
   "source": [
    "if criar_db:\n",
    "    print(\"Criando Banco Vetorial\")\n",
    "\n",
    "    # Abrindo o arquio\n",
    "    texto = open_file(file_path)\n",
    "    filename = os.path.basename(file_path)\n",
    "    metadatas = [{\"nome do arquivo\": filename}]\n",
    "\n",
    "    text_splitter = CharacterTextSplitter(separator=\"\\n\", chunk_size=chunk_size,\n",
    "                                        chunk_overlap=int(chunk_size * chunk_overlap),\n",
    "                                        length_function=len,\n",
    "                                        is_separator_regex=False,\n",
    "                                        )\n",
    "\n",
    "\n",
    "    all_splits = text_splitter.create_documents([texto], metadatas=metadatas)\n",
    "\n",
    "    vectorstore = Chroma.from_documents(documents=all_splits, embedding=embedding, persist_directory=persist_directory)\n",
    "    \n",
    "\n",
    "else:\n",
    "    print(\"Carregando Banco Vetorial\")\n",
    "    try:\n",
    "        vectorstore = Chroma(embedding_function=embedding, persist_directory=persist_directory)\n",
    "        print(\"Banco de vetores carregado com sucesso.\")\n",
    "    except Exception as e:\n",
    "        print(f\"Erro ao carregar banco de vetores: {e}\")\n",
    "\n",
    "    \n",
    "question = \"Qual a diferença entre Unidade de Controle e Unidade Lógica Aritmética?\"\n",
    "\n",
    "docs = vectorstore.similarity_search_with_score(question, k=4)"
   ]
  },
  {
   "cell_type": "code",
   "execution_count": 9,
   "id": "33ae2ad5",
   "metadata": {},
   "outputs": [
    {
     "name": "stdout",
     "output_type": "stream",
     "text": [
      "Resposta: A pergunta é sobre a diferença entre Unidade de Controle e Unidade Lógica Aritmética.\n",
      "\n",
      "Segundo as informações fornecidas, a Unidade de Controle (CU) é um componente essencial da Unidade Central de Processamento (CPU) que direciona as operações do processador. Ele busca instruções da memória, decodifica-as e gera os sinais de controle necessários para executar as instruções.\n",
      "\n",
      "Já a Unidade Lógica Aritmética (ALU) é a parte do processador que realiza operações aritméticas e lógicas. Ela executa operações como adição, subtração, multiplicação e divisão, além de operações lógicas como AND, OR e NOT.\n",
      "\n",
      "Em resumo, a Unidade de Controle é responsável por gerenciar as instruções do processador e controlar a execução das operações, enquanto a Unidade Lógica Aritmética é responsável por realizar as operações aritméticas e lógicas propriamente ditas.\n",
      "\n",
      "Portanto, a principal diferença entre as duas unidades está na função que cada uma desempenha no processador: a Unidade de Controle se preocupa com o gerenciamento de instruções e controle da execução, enquanto a Unidade Lógica Aritmética se preocupa com a realização das operações aritméticas e lógicas.\n"
     ]
    }
   ],
   "source": [
    "def enviar_pergunta(pergunta, contexto):\n",
    "    try:\n",
    "        prompt = f\"\"\"\n",
    "        Pergunta: {pergunta}\n",
    "\n",
    "        Utilize as informações a seguir para responder a pergunta:\n",
    "        {contexto}\n",
    "\n",
    "\n",
    "        Resposta:\n",
    "        \"\"\"\n",
    "        resposta = client.invoke(prompt)\n",
    "        return resposta\n",
    "\n",
    "    except Exception as e:\n",
    "        return f\"Ocorreu um erro: {e}\"\n",
    "    \n",
    "    \n",
    "resposta = enviar_pergunta(question, str(docs))\n",
    "\n",
    "print(\"Resposta:\", resposta)"
   ]
  }
 ],
 "metadata": {
  "kernelspec": {
   "display_name": "venv",
   "language": "python",
   "name": "python3"
  },
  "language_info": {
   "codemirror_mode": {
    "name": "ipython",
    "version": 3
   },
   "file_extension": ".py",
   "mimetype": "text/x-python",
   "name": "python",
   "nbconvert_exporter": "python",
   "pygments_lexer": "ipython3",
   "version": "3.12.7"
  }
 },
 "nbformat": 4,
 "nbformat_minor": 5
}
